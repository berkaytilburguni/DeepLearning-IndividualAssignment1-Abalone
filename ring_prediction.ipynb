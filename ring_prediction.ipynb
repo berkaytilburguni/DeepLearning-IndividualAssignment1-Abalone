{
 "cells": [
  {
   "cell_type": "markdown",
   "metadata": {},
   "source": [
    "# Deep Learning First Individual Assignment | Predicting Abalone Age\n",
    "## *Berkay Kulak, 2118985*\n",
    "\n",
    "---\n",
    "\n",
    "### Project Evaluation Criteria:\n",
    "\n",
    "#### Data Loading and Preprocessing (2 points max)\n",
    "- Load the data from the CSV files using the appropriate data import methods in PyTorch.\n",
    "- Apply dataset splits that enable you to assess network overfitting.\n",
    "- Preprocess the categorical and numerical data accordingly (refer to **Lesson 5 – Training Practices and Regularization** and **Lesson 6 – PyTorch in Production**).\n",
    "- Make data loading protocols for mini-batch training.\n",
    "\n",
    "#### Approach and Methodology (2 points max)\n",
    "- Implement a neural network architecture suited to the task and justify your choice (refer to **Lesson 6 – PyTorch in Production**).\n",
    "- Apply regularization techniques that help prevent network overfitting.\n",
    "\n",
    "#### Results and Evaluation (2 points max)\n",
    "- Build a training protocol to train your neural network on the dataset with a user-specified number of epochs.\n",
    "- Implement methods that effectively regulate the training process (refer to **Lab 5 – Training Practices and Regularization**).\n",
    "- Provide visualizations, if useful, that give an indication of the training procedure (e.g., a loss curve). These visualizations can be included in your report as part of your submission package.\n",
    "- Implement a software method that saves the network’s weight with the best performance.  \n",
    "  - These network weights should be saved as `.pt` / `.pth` file.\n",
    "  - Include them as part of your submission package so that the teacher and the teaching assistant can reproduce your results. \n",
    "\n",
    "#### Code Quality and Reproducibility (2 points max)\n",
    "- Your code should be clean, well-structured, and properly commented.\n",
    "- Ensure the code runs in inference mode with your network weights (`.pt` / `.pth` file) to produce the target variable (the number of rings) using the data from `test.csv`.\n",
    "- Ensure that the model generates predictions for the number of rings for every data point in the test set.\n",
    "- Write a `README` file for running your code in inference mode to produce the targets.  \n",
    "  - This will help the teacher and the teaching assistant reproduce your results. \n",
    "\n",
    "#### Summary and Justification (2 points max)\n",
    "- Clearly summarize the key novelties of your approach.\n",
    "- Justify the choices made in the data preprocessing, neural network design, training protocol, and inference protocol.\n",
    "- Discuss any challenges encountered and potential improvements.\n",
    "\n",
    "---"
   ]
  },
  {
   "cell_type": "markdown",
   "metadata": {},
   "source": [
    "First we need to import the libraries. As we can see below I have made a global variable called `SKIP_TRAINING`. If this variable is set to `True`, the training will be skipped and the model will be loaded from the saved weights. This is useful for testing the inference part of the code."
   ]
  },
  {
   "cell_type": "code",
   "execution_count": 345,
   "metadata": {},
   "outputs": [
    {
     "name": "stdout",
     "output_type": "stream",
     "text": [
      "Device: cpu, CPU\n"
     ]
    }
   ],
   "source": [
    "import torch\n",
    "import torch.nn as nn\n",
    "import torch.nn.functional as F\n",
    "import torch.optim as optim\n",
    "from torch.utils.data import Dataset, DataLoader, random_split\n",
    "import pandas as pd\n",
    "import numpy as np\n",
    "import matplotlib.pyplot as plt\n",
    "import random\n",
    "\n",
    "SKIP_TRAINING = True\n",
    "\n",
    "device, device_name = (torch.device(\"cuda\"), torch.cuda.get_device_name(0)) if torch.cuda.is_available() else (torch.device(\"cpu\"), \"CPU\")\n",
    "print(f\"Device: {device}, {device_name}\")"
   ]
  },
  {
   "cell_type": "markdown",
   "metadata": {},
   "source": [
    "Below the seed is set to 42 for reproducibility."
   ]
  },
  {
   "cell_type": "code",
   "execution_count": 346,
   "metadata": {},
   "outputs": [],
   "source": [
    "def set_seed(seed=42):\n",
    "    torch.manual_seed(seed)               \n",
    "    torch.cuda.manual_seed_all(seed)      \n",
    "    np.random.seed(seed)                  \n",
    "    random.seed(seed)                     \n",
    "    torch.backends.cudnn.deterministic = True  \n",
    "    torch.backends.cudnn.benchmark = False     \n",
    "\n",
    "set_seed(42)"
   ]
  },
  {
   "cell_type": "markdown",
   "metadata": {},
   "source": [
    "Lets load the data."
   ]
  },
  {
   "cell_type": "code",
   "execution_count": 347,
   "metadata": {},
   "outputs": [],
   "source": [
    "train_data = pd.read_csv('Data/train.csv')\n",
    "test_data = pd.read_csv('Data/test.csv')"
   ]
  },
  {
   "cell_type": "markdown",
   "metadata": {},
   "source": [
    "This custom dataset class is designed for the Abalone age prediction task. It handles:\n",
    "- Reading data from a CSV file\n",
    "- One-hot encoding of the 'Sex' feature\n",
    "- Standardization of numeric features (with mean/std from training data)\n",
    "- Support for both training/validation and test mode (with/without targets)"
   ]
  },
  {
   "cell_type": "code",
   "execution_count": 348,
   "metadata": {},
   "outputs": [],
   "source": [
    "class AbaloneDataset(Dataset):\n",
    "    def __init__(self, csv_path, is_test=False, mean=None, std=None):\n",
    "        self.data = pd.read_csv(csv_path)\n",
    "        self.is_test = is_test\n",
    "\n",
    "        self.numeric_cols = [\n",
    "            'Length', 'Diameter', 'Height', 'Whole_weight',\n",
    "            'Shucked_weight', 'Viscera_weight', 'Shell_weight'\n",
    "        ]\n",
    "        self.sex_mapping = {'M': 0, 'F': 1, 'I': 2}\n",
    "\n",
    "        # Compute the mean and std for standardization\n",
    "        if not is_test:\n",
    "            self.mean = torch.tensor(self.data[self.numeric_cols].mean().values, dtype=torch.float32) \n",
    "            self.std = torch.tensor(self.data[self.numeric_cols].std().values, dtype=torch.float32)\n",
    "        else:\n",
    "            self.mean = mean.clone().detach()\n",
    "            self.std = std.clone().detach()\n",
    "\n",
    "    def __len__(self):\n",
    "        return len(self.data)\n",
    "\n",
    "    def __getitem__(self, idx):\n",
    "        row = self.data.iloc[idx]\n",
    "\n",
    "        # One-hot encode 'Sex'\n",
    "        sex_index = self.sex_mapping[row['Sex']]\n",
    "        sex_one_hot = torch.nn.functional.one_hot(torch.tensor(sex_index), num_classes=3).float()\n",
    "\n",
    "        # Get numeric features and standardize\n",
    "        numeric = torch.tensor([row[col] for col in self.numeric_cols], dtype=torch.float32)\n",
    "        numeric = (numeric - self.mean) / self.std\n",
    "\n",
    "        # Combine features\n",
    "        features = torch.cat([sex_one_hot, numeric])\n",
    "\n",
    "        if self.is_test:\n",
    "            return features\n",
    "        else:\n",
    "            target = torch.tensor(row['Rings'], dtype=torch.float32).view(1)\n",
    "            return features, target"
   ]
  },
  {
   "cell_type": "markdown",
   "metadata": {},
   "source": [
    "The code below does the following:\n",
    "- Loads the full training dataset from `train.csv`\n",
    "- Computes and stores the mean and standard deviation for standardization\n",
    "- Splits the dataset into training and validation subsets (80/20) using a fixed random seed for reproducibility\n",
    "- Re-wraps the validation set into a proper `AbaloneDataset` using the same standardization stats\n",
    "- Loads the test dataset using the same mean and std to ensure consistent preprocessing\n",
    "- Initializes `DataLoader` objects for training, validation, and test sets"
   ]
  },
  {
   "cell_type": "code",
   "execution_count": 349,
   "metadata": {},
   "outputs": [],
   "source": [
    "# Load full training dataset\n",
    "full_train_dataset = AbaloneDataset(\"Data/train.csv\")\n",
    "\n",
    "# Save mean and std\n",
    "mean = full_train_dataset.mean\n",
    "std = full_train_dataset.std\n",
    "\n",
    "# Split the full training dataset\n",
    "train_size = int(0.8 * len(full_train_dataset))\n",
    "val_size = len(full_train_dataset) - train_size\n",
    "generator = torch.Generator().manual_seed(42)\n",
    "train_subset, val_subset = random_split(full_train_dataset, [train_size, val_size], generator=generator)\n",
    "\n",
    "# Re-wrap val_subset into a proper AbaloneDataset with the same mean/std\n",
    "val_indices = val_subset.indices\n",
    "val_df = full_train_dataset.data.iloc[val_indices].reset_index(drop=True)\n",
    "val_df.to_csv(\"Data/val_temp.csv\", index=False)\n",
    "val_dataset = AbaloneDataset(\"Data/val_temp.csv\", is_test=False, mean=mean, std=std)\n",
    "\n",
    "# Test dataset (already correct)\n",
    "test_dataset = AbaloneDataset(\"Data/test.csv\", is_test=True, mean=mean, std=std)\n",
    "\n",
    "# Dataloaders\n",
    "train_loader = DataLoader(train_subset, batch_size=32, shuffle=True)\n",
    "val_loader = DataLoader(val_dataset, batch_size=32, shuffle=False)\n",
    "test_loader = DataLoader(test_dataset, batch_size=32, shuffle=False)"
   ]
  },
  {
   "cell_type": "markdown",
   "metadata": {},
   "source": [
    "Below is a simple feedforward neural network for regression. It consists of:\n",
    "- Input layer with 10 features\n",
    "- Two hidden layers with ReLU activations (64 → 32 units)\n",
    "- A single linear output neuron for predicting the number of rings\n",
    "\n",
    "This serves as the **baseline model** for the abalone age prediction task."
   ]
  },
  {
   "cell_type": "code",
   "execution_count": 350,
   "metadata": {},
   "outputs": [],
   "source": [
    "class CleanAbaloneNetwork(nn.Module):\n",
    "    def __init__(self):\n",
    "        super(CleanAbaloneNetwork, self).__init__()\n",
    "        self.model = nn.Sequential(\n",
    "            nn.Linear(10, 64),\n",
    "            nn.ReLU(),\n",
    "            nn.Linear(64, 32),\n",
    "            nn.ReLU(),\n",
    "            nn.Linear(32, 1)  # Output layer for regression\n",
    "        )\n",
    "\n",
    "    def forward(self, x):\n",
    "        return self.model(x)"
   ]
  },
  {
   "cell_type": "markdown",
   "metadata": {},
   "source": [
    "The code below does the following:\n",
    "- Selects the available device (GPU if available, otherwise CPU)\n",
    "- Initializes the `CleanAbaloneNetwork` model and moves it to the selected device\n",
    "- Uses **Mean Squared Error (MSELoss)** as the loss function for regression\n",
    "- Applies the **Adam optimizer** with a learning rate of 0.001 to update model parameters"
   ]
  },
  {
   "cell_type": "code",
   "execution_count": 351,
   "metadata": {},
   "outputs": [],
   "source": [
    "device = torch.device(\"cuda\" if torch.cuda.is_available() else \"cpu\")\n",
    "\n",
    "clean_model = CleanAbaloneNetwork().to(device)\n",
    "criterion = nn.MSELoss()\n",
    "optimizer = optim.Adam(clean_model.parameters(), lr=0.001)"
   ]
  },
  {
   "cell_type": "markdown",
   "metadata": {},
   "source": [
    "This function calculates the **L1 regularization penalty** for a given model:\n",
    "\n",
    "- Iterates over all model parameters\n",
    "- Sums the absolute values of the weights (L1 norm)\n",
    "- Multiplies by a regularization strength `lambda_reg`\n",
    "\n",
    "This extra penalty can be added to the main loss to help the model keep its weights small, which can prevent overfitting."
   ]
  },
  {
   "cell_type": "code",
   "execution_count": 352,
   "metadata": {},
   "outputs": [],
   "source": [
    "def l1_regularization(model, lambda_reg):\n",
    "    l1_penalty = sum(param.abs().sum() for param in model.parameters())\n",
    "    return lambda_reg * l1_penalty"
   ]
  },
  {
   "cell_type": "markdown",
   "metadata": {},
   "source": [
    "The `train_model` function trains a PyTorch model with the following features:\n",
    "\n",
    "- **Tracks training and validation loss** across epochs\n",
    "- Adds **L1 regularization** during training to encourage smaller weights\n",
    "- Computes and prints additional metrics: **MAE** and **RMSE**\n",
    "- Implements **early stopping**: stops training if validation loss doesn't improve after 10 consecutive epochs\n",
    "- Saves the best-performing model based on lowest validation loss (`best_model.pt`)"
   ]
  },
  {
   "cell_type": "code",
   "execution_count": 353,
   "metadata": {},
   "outputs": [],
   "source": [
    "def train_model(model, criterion, optimizer):\n",
    "    train_losses = []\n",
    "    val_losses = []\n",
    "    patience = 10           # How many epochs to wait before stopping\n",
    "    counter = 0             # How many epochs since last improvement\n",
    "    best_val_loss = float('inf')\n",
    "\n",
    "    for epoch in range(1, 51):\n",
    "        model.train()\n",
    "        running_loss = 0.0\n",
    "\n",
    "        for inputs, targets in train_loader:\n",
    "            inputs, targets = inputs.to(device), targets.to(device)\n",
    "            optimizer.zero_grad()\n",
    "            outputs = model(inputs)\n",
    "            loss = criterion(outputs, targets)\n",
    "            lambda_reg = 1e-5\n",
    "            loss += l1_regularization(model, lambda_reg)\n",
    "            loss.backward()\n",
    "            optimizer.step()\n",
    "            running_loss += loss.item() * inputs.size(0)\n",
    "\n",
    "        avg_train_loss = running_loss / len(train_loader.dataset)\n",
    "\n",
    "        # Validation\n",
    "        model.eval()\n",
    "        val_loss = 0.0\n",
    "        val_preds = []\n",
    "        val_targets = []\n",
    "\n",
    "        with torch.no_grad():\n",
    "            for inputs, targets in val_loader:\n",
    "                inputs, targets = inputs.to(device), targets.to(device)\n",
    "                outputs = model(inputs)\n",
    "                loss = criterion(outputs, targets)\n",
    "                val_loss += loss.item() * inputs.size(0)\n",
    "\n",
    "                val_preds.append(outputs.cpu())\n",
    "                val_targets.append(targets.cpu())\n",
    "\n",
    "        avg_val_loss = val_loss / len(val_loader.dataset)\n",
    "        val_preds = torch.cat(val_preds)\n",
    "        val_targets = torch.cat(val_targets)\n",
    "\n",
    "        # Calculate additional metrics\n",
    "        mae = F.l1_loss(val_preds, val_targets).item()\n",
    "        rmse = torch.sqrt(F.mse_loss(val_preds, val_targets)).item()\n",
    "\n",
    "        # Save for visualization\n",
    "        train_losses.append(avg_train_loss)\n",
    "        val_losses.append(avg_val_loss)\n",
    "\n",
    "        # Logging\n",
    "        print(f\"Epoch {epoch:02d} | Train Loss: {avg_train_loss:.4f} | Val Loss: {avg_val_loss:.4f} | MAE: {mae:.4f} | RMSE: {rmse:.4f}\")\n",
    "\n",
    "        # Save best model \n",
    "        if avg_val_loss < best_val_loss:\n",
    "            best_val_loss = avg_val_loss\n",
    "            torch.save(model.state_dict(), \"best_model.pt\")\n",
    "            counter = 0  # Reset the early stopping counter\n",
    "        else:\n",
    "            counter += 1\n",
    "            print(f\"No improvement in validation loss for {counter} epoch(s).\")\n",
    "\n",
    "            if counter >= patience:\n",
    "                print(\"Early stopping triggered!\")\n",
    "                break\n",
    "        \n",
    "    return train_losses, val_losses"
   ]
  },
  {
   "cell_type": "markdown",
   "metadata": {},
   "source": [
    "Below a function to create training plots, where we can see the loss curve of the training and validation sets."
   ]
  },
  {
   "cell_type": "code",
   "execution_count": 354,
   "metadata": {},
   "outputs": [],
   "source": [
    "def create_training_plot(train_losses, val_losses, model_name):\n",
    "    plt.figure(figsize=(10, 5))\n",
    "    plt.plot(train_losses, label=\"Train Loss\")\n",
    "    plt.plot(val_losses, label=\"Validation Loss\")\n",
    "    plt.xlabel(\"Epoch\")\n",
    "    plt.ylabel(\"Loss\")\n",
    "    plt.title(f\"Training vs Validation Loss {model_name}\")\n",
    "    plt.legend()\n",
    "    plt.grid(True)\n",
    "    plt.show()"
   ]
  },
  {
   "cell_type": "markdown",
   "metadata": {},
   "source": [
    "Let's train the baseline model."
   ]
  },
  {
   "cell_type": "code",
   "execution_count": 355,
   "metadata": {},
   "outputs": [],
   "source": [
    "if SKIP_TRAINING == False:\n",
    "    train_losses, val_losses = train_model(clean_model, criterion, optimizer)\n",
    "    create_training_plot(train_losses, val_losses, \"Clean Model\")"
   ]
  },
  {
   "cell_type": "markdown",
   "metadata": {},
   "source": [
    "Below is an enhanced version of the baseline neural network for abalone age prediction.\n",
    "\n",
    "Key improvements include:\n",
    "- **Batch Normalization** after each hidden layer for more stable and faster training\n",
    "- **LeakyReLU** activation to avoid dying ReLU problems\n",
    "- **Dropout (0.3)** for regularization to reduce overfitting\n",
    "\n",
    "The model has:\n",
    "- An input layer for 10 features\n",
    "- Two hidden layers (64 → 32 units)\n",
    "- A single output node for regression (predicting the number of rings)"
   ]
  },
  {
   "cell_type": "code",
   "execution_count": 356,
   "metadata": {},
   "outputs": [],
   "source": [
    "class ModifiedAbaloneNetwork(nn.Module):\n",
    "    def __init__(self):\n",
    "        super(ModifiedAbaloneNetwork, self).__init__()\n",
    "        self.model = nn.Sequential(\n",
    "            nn.Linear(10, 64),\n",
    "            nn.BatchNorm1d(64),\n",
    "            nn.LeakyReLU(),\n",
    "            nn.Dropout(0.3),\n",
    "            \n",
    "            nn.Linear(64, 32),\n",
    "            nn.BatchNorm1d(32),\n",
    "            nn.LeakyReLU(),\n",
    "            nn.Dropout(0.3),\n",
    "            \n",
    "            nn.Linear(32, 1)  # Output layer for regression\n",
    "        )\n",
    "\n",
    "    def forward(self, x):\n",
    "        return self.model(x)"
   ]
  },
  {
   "cell_type": "markdown",
   "metadata": {},
   "source": [
    "The code below:\n",
    "- Initializes the `ModifiedAbaloneNetwork` and moves it to the selected device (CPU or GPU)\n",
    "- Uses **Mean Squared Error (MSELoss)** as the loss function for regression\n",
    "- Applies the **Adam optimizer** with a learning rate of 0.01 to update the model’s parameters during training"
   ]
  },
  {
   "cell_type": "code",
   "execution_count": 357,
   "metadata": {},
   "outputs": [],
   "source": [
    "modified_model = ModifiedAbaloneNetwork().to(device)\n",
    "criterion = nn.MSELoss()\n",
    "optimizer = optim.Adam(modified_model.parameters(), lr=0.01)"
   ]
  },
  {
   "cell_type": "markdown",
   "metadata": {},
   "source": [
    "Lets train the enhanced model."
   ]
  },
  {
   "cell_type": "code",
   "execution_count": 358,
   "metadata": {},
   "outputs": [],
   "source": [
    "if SKIP_TRAINING == False:\n",
    "    train_losses, val_losses = train_model(modified_model, criterion, optimizer)\n",
    "    create_training_plot(train_losses, val_losses, \"Modified Model\")"
   ]
  },
  {
   "cell_type": "markdown",
   "metadata": {},
   "source": [
    "The final piece of code below does the following:\n",
    "- Loads the trained weights from `best_model.pt` into the modified model\n",
    "- Sets the model to **evaluation mode** to disable dropout and use running stats for batch normalization\n",
    "- Performs **inference** on the test dataset using `torch.no_grad()` for memory efficiency\n",
    "- Collects the predicted number of rings and adds them to the original `test.csv` as a new column\n",
    "- Saves the final predictions to `test_predictions.csv`"
   ]
  },
  {
   "cell_type": "code",
   "execution_count": 359,
   "metadata": {},
   "outputs": [
    {
     "name": "stdout",
     "output_type": "stream",
     "text": [
      "Saved test_predictions.csv\n"
     ]
    }
   ],
   "source": [
    "# Load model\n",
    "modified_model.load_state_dict(torch.load(\"best_model.pt\"))\n",
    "modified_model.eval()\n",
    "\n",
    "predictions = []\n",
    "\n",
    "with torch.no_grad():\n",
    "    for inputs in test_loader:\n",
    "        inputs = inputs.to(device)\n",
    "        outputs = modified_model(inputs)\n",
    "        predictions.extend(outputs.cpu().numpy().flatten())\n",
    "\n",
    "# Save to a new CSV\n",
    "test_df = pd.read_csv(\"Data/test.csv\")\n",
    "test_df[\"Rings\"] = predictions\n",
    "test_df.to_csv(\"test_predictions.csv\", index=False)\n",
    "print(\"Saved test_predictions.csv\")"
   ]
  },
  {
   "cell_type": "markdown",
   "metadata": {},
   "source": [
    "---\n",
    "\n",
    "### Final Note\n",
    "\n",
    "For a more detailed explanation of the steps I followed, the decisions I made, and the reasoning behind them, please refer to the accompanying document. It also includes a brief conclusion reflecting on the outcomes of this project."
   ]
  }
 ],
 "metadata": {
  "kernelspec": {
   "display_name": "Python 3",
   "language": "python",
   "name": "python3"
  },
  "language_info": {
   "codemirror_mode": {
    "name": "ipython",
    "version": 3
   },
   "file_extension": ".py",
   "mimetype": "text/x-python",
   "name": "python",
   "nbconvert_exporter": "python",
   "pygments_lexer": "ipython3",
   "version": "3.12.7"
  }
 },
 "nbformat": 4,
 "nbformat_minor": 2
}
