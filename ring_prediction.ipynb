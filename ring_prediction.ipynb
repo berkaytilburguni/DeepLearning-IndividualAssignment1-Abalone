{
 "cells": [
  {
   "cell_type": "markdown",
   "metadata": {},
   "source": [
    "# Project Evaluation Criteria\n",
    "\n",
    "## Data Loading and Preprocessing (2 points max)\n",
    "- Load the data from the CSV files using the appropriate data import methods in PyTorch.\n",
    "- Apply dataset splits that enable you to assess network overfitting.\n",
    "- Preprocess the categorical and numerical data accordingly (refer to **Lesson 5 – Training Practices and Regularization** and **Lesson 6 – PyTorch in Production**).\n",
    "- Make data loading protocols for mini-batch training.\n",
    "\n",
    "## Approach and Methodology (2 points max)\n",
    "- Implement a neural network architecture suited to the task and justify your choice (refer to **Lesson 6 – PyTorch in Production**).\n",
    "- Apply regularization techniques that help prevent network overfitting.\n",
    "\n",
    "## Results and Evaluation (2 points max)\n",
    "- Build a training protocol to train your neural network on the dataset with a user-specified number of epochs.\n",
    "- Implement methods that effectively regulate the training process (refer to **Lab 5 – Training Practices and Regularization**).\n",
    "- Provide visualizations, if useful, that give an indication of the training procedure (e.g., a loss curve). These visualizations can be included in your report as part of your submission package.\n",
    "- Implement a software method that saves the network’s weight with the best performance.  \n",
    "  - These network weights should be saved as `.pt` / `.pth` file.\n",
    "  - Include them as part of your submission package so that the teacher and the teaching assistant can reproduce your results. \n",
    "\n",
    "## Code Quality and Reproducibility (2 points max)\n",
    "- Your code should be clean, well-structured, and properly commented.\n",
    "- Ensure the code runs in inference mode with your network weights (`.pt` / `.pth` file) to produce the target variable (the number of rings) using the data from `test.csv`.\n",
    "- Ensure that the model generates predictions for the number of rings for every data point in the test set.\n",
    "- Write a `README` file for running your code in inference mode to produce the targets.  \n",
    "  - This will help the teacher and the teaching assistant reproduce your results. \n",
    "\n",
    "## Summary and Justification (2 points max)\n",
    "- Clearly summarize the key novelties of your approach.\n",
    "- Justify the choices made in the data preprocessing, neural network design, training protocol, and inference protocol.\n",
    "- Discuss any challenges encountered and potential improvements."
   ]
  },
  {
   "cell_type": "code",
   "execution_count": 75,
   "metadata": {},
   "outputs": [
    {
     "name": "stdout",
     "output_type": "stream",
     "text": [
      "Device: cpu, CPU\n"
     ]
    }
   ],
   "source": [
    "import pandas as pd\n",
    "import torch\n",
    "import torch.nn as nn\n",
    "import torch.nn.functional as F\n",
    "import torch.optim as optim\n",
    "from torch.utils.data import Dataset, DataLoader, random_split\n",
    "import pandas as pd\n",
    "import numpy as np\n",
    "import matplotlib.pyplot as plt\n",
    "device, device_name = (torch.device(\"cuda\"), torch.cuda.get_device_name(0)) if torch.cuda.is_available() else (torch.device(\"cpu\"), \"CPU\")\n",
    "print(f\"Device: {device}, {device_name}\")"
   ]
  },
  {
   "cell_type": "code",
   "execution_count": 76,
   "metadata": {},
   "outputs": [],
   "source": [
    "train_data = pd.read_csv('Data/train.csv')\n",
    "test_data = pd.read_csv('Data/test.csv')"
   ]
  },
  {
   "cell_type": "code",
   "execution_count": 77,
   "metadata": {},
   "outputs": [
    {
     "data": {
      "text/plain": [
       "Sex               0\n",
       "Length            0\n",
       "Diameter          0\n",
       "Height            0\n",
       "Whole_weight      0\n",
       "Shucked_weight    0\n",
       "Viscera_weight    0\n",
       "Shell_weight      0\n",
       "Rings             0\n",
       "dtype: int64"
      ]
     },
     "execution_count": 77,
     "metadata": {},
     "output_type": "execute_result"
    }
   ],
   "source": [
    "train_data\n",
    "\n",
    "# check for missing values\n",
    "train_data.isnull().sum()"
   ]
  },
  {
   "cell_type": "code",
   "execution_count": 78,
   "metadata": {},
   "outputs": [
    {
     "data": {
      "text/plain": [
       "Sex               0\n",
       "Length            0\n",
       "Diameter          0\n",
       "Height            0\n",
       "Whole_weight      0\n",
       "Shucked_weight    0\n",
       "Viscera_weight    0\n",
       "Shell_weight      0\n",
       "dtype: int64"
      ]
     },
     "execution_count": 78,
     "metadata": {},
     "output_type": "execute_result"
    }
   ],
   "source": [
    "test_data\n",
    "# check for missing values\n",
    "test_data.isnull().sum()"
   ]
  },
  {
   "cell_type": "code",
   "execution_count": 79,
   "metadata": {},
   "outputs": [],
   "source": [
    "# class AbaloneDataset(Dataset):\n",
    "#     def __init__(self, csv_path, is_test=False):\n",
    "#         self.data = pd.read_csv(csv_path)\n",
    "#         self.is_test = is_test\n",
    "#         self.preprocess_data()\n",
    "\n",
    "#     def preprocess_data(self):\n",
    "#         # One-hot encode 'Sex'\n",
    "#         sex_mapping = {'M': 0, 'F': 1, 'I': 2}\n",
    "#         self.data['Sex'] = self.data['Sex'].map(sex_mapping)\n",
    "#         sex_one_hot = torch.nn.functional.one_hot(torch.tensor(self.data['Sex'].values), num_classes=3)\n",
    "\n",
    "#         # Get numeric features\n",
    "#         numeric_cols = [\n",
    "#             'Length', 'Diameter', 'Height', 'Whole_weight',\n",
    "#             'Shucked_weight', 'Viscera_weight', 'Shell_weight'\n",
    "#         ]\n",
    "#         numeric_data = torch.tensor(self.data[numeric_cols].values, dtype=torch.float32)\n",
    "\n",
    "#         # Combine all features\n",
    "#         self.features = torch.cat([sex_one_hot, numeric_data], dim=1)\n",
    "\n",
    "#         # Targets\n",
    "#         if not self.is_test:\n",
    "#             self.targets = torch.tensor(self.data['Rings'].values, dtype=torch.float32).view(-1, 1)\n",
    "\n",
    "#     def __len__(self):\n",
    "#         return len(self.data)\n",
    "\n",
    "#     def __getitem__(self, idx):\n",
    "#         if self.is_test:\n",
    "#             return self.features[idx]\n",
    "#         else:\n",
    "#             return self.features[idx], self.targets[idx]\n",
    "\n",
    "# train_dataset = AbaloneDataset('Data/train.csv')\n",
    "# test_dataset = AbaloneDataset('Data/test.csv', is_test=True)\n",
    "\n",
    "# for i in range(5):\n",
    "#     print(test_dataset[i])\n"
   ]
  },
  {
   "cell_type": "code",
   "execution_count": 80,
   "metadata": {},
   "outputs": [],
   "source": [
    "import pandas as pd\n",
    "import torch\n",
    "from torch.utils.data import Dataset\n",
    "\n",
    "class AbaloneDataset(Dataset):\n",
    "    def __init__(self, csv_path, is_test=False, mean=None, std=None):\n",
    "        self.data = pd.read_csv(csv_path)\n",
    "        self.is_test = is_test\n",
    "\n",
    "        # Define columns\n",
    "        self.numeric_cols = [\n",
    "            'Length', 'Diameter', 'Height', 'Whole_weight',\n",
    "            'Shucked_weight', 'Viscera_weight', 'Shell_weight'\n",
    "        ]\n",
    "        self.sex_mapping = {'M': 0, 'F': 1, 'I': 2}\n",
    "\n",
    "        # Compute or load mean and std for standardization\n",
    "        if not is_test:\n",
    "            self.mean = torch.tensor(self.data[self.numeric_cols].mean().values, dtype=torch.float32)\n",
    "            self.std = torch.tensor(self.data[self.numeric_cols].std().values, dtype=torch.float32)\n",
    "        else:\n",
    "            self.mean = mean.clone().detach()\n",
    "            self.std = std.clone().detach()\n",
    "\n",
    "    def __len__(self):\n",
    "        return len(self.data)\n",
    "\n",
    "    def __getitem__(self, idx):\n",
    "        row = self.data.iloc[idx]\n",
    "\n",
    "        # One-hot encode 'Sex'\n",
    "        sex_index = self.sex_mapping[row['Sex']]\n",
    "        sex_one_hot = torch.nn.functional.one_hot(torch.tensor(sex_index), num_classes=3).float()\n",
    "\n",
    "        # Get numeric features and standardize\n",
    "        numeric = torch.tensor([row[col] for col in self.numeric_cols], dtype=torch.float32)\n",
    "        numeric = (numeric - self.mean) / self.std\n",
    "\n",
    "        # Combine features\n",
    "        features = torch.cat([sex_one_hot, numeric])\n",
    "\n",
    "        if self.is_test:\n",
    "            return features\n",
    "        else:\n",
    "            target = torch.tensor(row['Rings'], dtype=torch.float32).view(1)\n",
    "            return features, target\n",
    "\n"
   ]
  },
  {
   "cell_type": "code",
   "execution_count": 81,
   "metadata": {},
   "outputs": [
    {
     "name": "stdout",
     "output_type": "stream",
     "text": [
      "(tensor([0.0000, 1.0000, 0.0000, 0.9848, 1.1146, 0.8658, 1.1099, 1.0527, 0.9769,\n",
      "        1.3688]), tensor([20.]))\n",
      "(tensor([0.0000, 1.0000, 0.0000, 0.9034, 1.1146, 0.8658, 1.0306, 1.2106, 1.0806,\n",
      "        0.8516]), tensor([9.]))\n",
      "(tensor([ 0.0000,  1.0000,  0.0000,  0.3330,  0.2738, -0.5504, -0.1033,  0.0527,\n",
      "        -0.2940, -0.0863]), tensor([9.]))\n",
      "(tensor([0.0000, 1.0000, 0.0000, 0.7404, 1.0651, 2.1531, 0.6419, 0.0351, 0.7218,\n",
      "        1.0240]), tensor([23.]))\n",
      "(tensor([ 1.0000,  0.0000,  0.0000, -0.6039, -0.6660, -0.4216, -0.8142, -0.8816,\n",
      "        -0.6917, -0.7690]), tensor([12.]))\n",
      "669\n"
     ]
    }
   ],
   "source": [
    "# Load full training dataset\n",
    "full_train_dataset = AbaloneDataset(\"Data/train.csv\")\n",
    "\n",
    "# Save mean and std\n",
    "mean = full_train_dataset.mean\n",
    "std = full_train_dataset.std\n",
    "\n",
    "# Split the full training dataset\n",
    "train_size = int(0.8 * len(full_train_dataset))\n",
    "val_size = len(full_train_dataset) - train_size\n",
    "generator = torch.Generator().manual_seed(42)\n",
    "train_subset, val_subset = random_split(full_train_dataset, [train_size, val_size], generator=generator)\n",
    "\n",
    "# Re-wrap val_subset into a proper AbaloneDataset with the same mean/std\n",
    "val_indices = val_subset.indices\n",
    "val_df = full_train_dataset.data.iloc[val_indices].reset_index(drop=True)\n",
    "val_df.to_csv(\"Data/val_temp.csv\", index=False)\n",
    "val_dataset = AbaloneDataset(\"Data/val_temp.csv\", is_test=False, mean=mean, std=std)\n",
    "\n",
    "# Test dataset (already correct)\n",
    "test_dataset = AbaloneDataset(\"Data/test.csv\", is_test=True, mean=mean, std=std)\n",
    "\n",
    "for i in range(5):\n",
    "    print(val_dataset[i])\n",
    "print(len(val_dataset))\n",
    "\n",
    "# Dataloaders\n",
    "train_loader = DataLoader(train_subset, batch_size=32, shuffle=True)\n",
    "val_loader = DataLoader(val_dataset, batch_size=32, shuffle=False)\n",
    "test_loader = DataLoader(test_dataset, batch_size=32, shuffle=False)"
   ]
  },
  {
   "cell_type": "code",
   "execution_count": 82,
   "metadata": {},
   "outputs": [
    {
     "name": "stdout",
     "output_type": "stream",
     "text": [
      "Column-wise mean: tensor([0.0227, 0.0179, 0.0499, 0.0340, 0.0205, 0.0387, 0.0360])\n",
      "Column-wise std: tensor([1.0266, 1.0220, 1.0076, 1.0551, 1.0295, 1.0698, 1.0572])\n"
     ]
    }
   ],
   "source": [
    "import torch\n",
    "\n",
    "numeric_values = []\n",
    "\n",
    "# Collect numeric features from first 500 samples\n",
    "for i in range(500):\n",
    "    features, _ = val_subset[i]\n",
    "    numeric_part = features[3:]  # First 3 are one-hot encoded sex\n",
    "    numeric_values.append(numeric_part)\n",
    "\n",
    "# Stack into a single tensor\n",
    "numeric_tensor = torch.stack(numeric_values)\n",
    "\n",
    "# Check mean and std for each column\n",
    "print(\"Column-wise mean:\", numeric_tensor.mean(dim=0))\n",
    "print(\"Column-wise std:\", numeric_tensor.std(dim=0))"
   ]
  },
  {
   "cell_type": "code",
   "execution_count": 83,
   "metadata": {},
   "outputs": [],
   "source": [
    "class AbaloneNet(nn.Module):\n",
    "    def __init__(self):\n",
    "        super(AbaloneNet, self).__init__()\n",
    "        self.model = nn.Sequential(\n",
    "            nn.Linear(10, 64),\n",
    "            nn.BatchNorm1d(64),\n",
    "            nn.ReLU(),\n",
    "            nn.Dropout(0.3),\n",
    "            nn.Linear(64, 32),\n",
    "            nn.ReLU(),\n",
    "            nn.Linear(32, 1)  # Output layer for regression\n",
    "        )\n",
    "\n",
    "    def forward(self, x):\n",
    "        return self.model(x)"
   ]
  },
  {
   "cell_type": "code",
   "execution_count": 84,
   "metadata": {},
   "outputs": [],
   "source": [
    "device = torch.device(\"cuda\" if torch.cuda.is_available() else \"cpu\")\n",
    "\n",
    "model = AbaloneNet().to(device)\n",
    "criterion = nn.MSELoss()\n",
    "optimizer = optim.Adam(model.parameters(), lr=0.001)"
   ]
  },
  {
   "cell_type": "code",
   "execution_count": 85,
   "metadata": {},
   "outputs": [
    {
     "name": "stdout",
     "output_type": "stream",
     "text": [
      "Epoch 01 | Train Loss: 51.3450 | Val Loss: 9.0357 | MAE: 2.1218 | RMSE: 3.0059\n",
      "Epoch 02 | Train Loss: 9.2624 | Val Loss: 6.5673 | MAE: 1.7662 | RMSE: 2.5627\n",
      "Epoch 03 | Train Loss: 8.4727 | Val Loss: 5.9511 | MAE: 1.6665 | RMSE: 2.4395\n",
      "Epoch 04 | Train Loss: 8.1092 | Val Loss: 5.9126 | MAE: 1.6251 | RMSE: 2.4316\n",
      "Epoch 05 | Train Loss: 7.6127 | Val Loss: 5.4828 | MAE: 1.6147 | RMSE: 2.3415\n",
      "Epoch 06 | Train Loss: 7.4262 | Val Loss: 5.3703 | MAE: 1.5986 | RMSE: 2.3174\n",
      "Epoch 07 | Train Loss: 7.3999 | Val Loss: 5.3315 | MAE: 1.5777 | RMSE: 2.3090\n",
      "Epoch 08 | Train Loss: 7.3988 | Val Loss: 5.5237 | MAE: 1.5894 | RMSE: 2.3503\n",
      "No improvement in validation loss for 1 epoch(s).\n",
      "Epoch 09 | Train Loss: 6.9342 | Val Loss: 5.2110 | MAE: 1.6219 | RMSE: 2.2828\n",
      "Epoch 10 | Train Loss: 6.9810 | Val Loss: 5.6214 | MAE: 1.5710 | RMSE: 2.3709\n",
      "No improvement in validation loss for 1 epoch(s).\n",
      "Epoch 11 | Train Loss: 6.8049 | Val Loss: 4.9840 | MAE: 1.5186 | RMSE: 2.2325\n",
      "Epoch 12 | Train Loss: 6.6940 | Val Loss: 5.1290 | MAE: 1.5247 | RMSE: 2.2647\n",
      "No improvement in validation loss for 1 epoch(s).\n",
      "Epoch 13 | Train Loss: 6.7838 | Val Loss: 4.9567 | MAE: 1.5174 | RMSE: 2.2264\n",
      "Epoch 14 | Train Loss: 6.5723 | Val Loss: 4.8873 | MAE: 1.5269 | RMSE: 2.2107\n",
      "Epoch 15 | Train Loss: 6.2545 | Val Loss: 5.2135 | MAE: 1.5149 | RMSE: 2.2833\n",
      "No improvement in validation loss for 1 epoch(s).\n",
      "Epoch 16 | Train Loss: 6.3092 | Val Loss: 4.8705 | MAE: 1.5033 | RMSE: 2.2069\n",
      "Epoch 17 | Train Loss: 6.3734 | Val Loss: 5.0571 | MAE: 1.5372 | RMSE: 2.2488\n",
      "No improvement in validation loss for 1 epoch(s).\n",
      "Epoch 18 | Train Loss: 6.1127 | Val Loss: 4.9032 | MAE: 1.5332 | RMSE: 2.2143\n",
      "No improvement in validation loss for 2 epoch(s).\n",
      "Epoch 19 | Train Loss: 6.2645 | Val Loss: 4.9324 | MAE: 1.5183 | RMSE: 2.2209\n",
      "No improvement in validation loss for 3 epoch(s).\n",
      "Epoch 20 | Train Loss: 6.2425 | Val Loss: 4.8937 | MAE: 1.4793 | RMSE: 2.2122\n",
      "No improvement in validation loss for 4 epoch(s).\n",
      "Epoch 21 | Train Loss: 6.0283 | Val Loss: 4.7701 | MAE: 1.5093 | RMSE: 2.1840\n",
      "Epoch 22 | Train Loss: 6.0600 | Val Loss: 4.7805 | MAE: 1.5033 | RMSE: 2.1864\n",
      "No improvement in validation loss for 1 epoch(s).\n",
      "Epoch 23 | Train Loss: 6.0210 | Val Loss: 4.8638 | MAE: 1.4892 | RMSE: 2.2054\n",
      "No improvement in validation loss for 2 epoch(s).\n",
      "Epoch 24 | Train Loss: 5.9752 | Val Loss: 5.0814 | MAE: 1.5136 | RMSE: 2.2542\n",
      "No improvement in validation loss for 3 epoch(s).\n",
      "Epoch 25 | Train Loss: 5.8877 | Val Loss: 4.7536 | MAE: 1.4844 | RMSE: 2.1803\n",
      "Epoch 26 | Train Loss: 5.8709 | Val Loss: 4.6944 | MAE: 1.5159 | RMSE: 2.1667\n",
      "Epoch 27 | Train Loss: 5.8940 | Val Loss: 4.9288 | MAE: 1.5030 | RMSE: 2.2201\n",
      "No improvement in validation loss for 1 epoch(s).\n",
      "Epoch 28 | Train Loss: 5.8449 | Val Loss: 4.7156 | MAE: 1.4890 | RMSE: 2.1715\n",
      "No improvement in validation loss for 2 epoch(s).\n",
      "Epoch 29 | Train Loss: 5.5491 | Val Loss: 4.8425 | MAE: 1.4785 | RMSE: 2.2006\n",
      "No improvement in validation loss for 3 epoch(s).\n",
      "Epoch 30 | Train Loss: 5.7600 | Val Loss: 4.6958 | MAE: 1.4936 | RMSE: 2.1670\n",
      "No improvement in validation loss for 4 epoch(s).\n",
      "Epoch 31 | Train Loss: 5.6922 | Val Loss: 4.7464 | MAE: 1.4626 | RMSE: 2.1786\n",
      "No improvement in validation loss for 5 epoch(s).\n",
      "Early stopping triggered! ✅\n"
     ]
    }
   ],
   "source": [
    "train_losses = []\n",
    "val_losses = []\n",
    "patience = 5           # How many epochs to wait before stopping\n",
    "counter = 0            # How many epochs since last improvement\n",
    "best_val_loss = float('inf')\n",
    "\n",
    "for epoch in range(1, 51):\n",
    "    model.train()\n",
    "    running_loss = 0.0\n",
    "\n",
    "    for inputs, targets in train_loader:\n",
    "        inputs, targets = inputs.to(device), targets.to(device)\n",
    "        optimizer.zero_grad()\n",
    "        outputs = model(inputs)\n",
    "        loss = criterion(outputs, targets)\n",
    "        loss.backward()\n",
    "        optimizer.step()\n",
    "        running_loss += loss.item() * inputs.size(0)\n",
    "\n",
    "    avg_train_loss = running_loss / len(train_loader.dataset)\n",
    "\n",
    "    # Validation\n",
    "    model.eval()\n",
    "    val_loss = 0.0\n",
    "    val_preds = []\n",
    "    val_targets = []\n",
    "\n",
    "    with torch.no_grad():\n",
    "        for inputs, targets in val_loader:\n",
    "            inputs, targets = inputs.to(device), targets.to(device)\n",
    "            outputs = model(inputs)\n",
    "            loss = criterion(outputs, targets)\n",
    "            val_loss += loss.item() * inputs.size(0)\n",
    "\n",
    "            val_preds.append(outputs.cpu())\n",
    "            val_targets.append(targets.cpu())\n",
    "\n",
    "    avg_val_loss = val_loss / len(val_loader.dataset)\n",
    "    val_preds = torch.cat(val_preds)\n",
    "    val_targets = torch.cat(val_targets)\n",
    "\n",
    "    # Calculate additional metrics\n",
    "    mae = F.l1_loss(val_preds, val_targets).item()\n",
    "    rmse = torch.sqrt(F.mse_loss(val_preds, val_targets)).item()\n",
    "\n",
    "    # Save for visualization\n",
    "    train_losses.append(avg_train_loss)\n",
    "    val_losses.append(avg_val_loss)\n",
    "\n",
    "    # Logging\n",
    "    print(f\"Epoch {epoch:02d} | Train Loss: {avg_train_loss:.4f} | Val Loss: {avg_val_loss:.4f} | MAE: {mae:.4f} | RMSE: {rmse:.4f}\")\n",
    "\n",
    "    # Save best model \n",
    "    if avg_val_loss < best_val_loss:\n",
    "        best_val_loss = avg_val_loss\n",
    "        torch.save(model.state_dict(), \"best_model.pt\")\n",
    "        counter = 0  # Reset the early stopping counter\n",
    "    else:\n",
    "        counter += 1\n",
    "        print(f\"No improvement in validation loss for {counter} epoch(s).\")\n",
    "\n",
    "        if counter >= patience:\n",
    "            print(\"Early stopping triggered! ✅\")\n",
    "            break"
   ]
  },
  {
   "cell_type": "code",
   "execution_count": 86,
   "metadata": {},
   "outputs": [
    {
     "data": {
      "image/png": "[encoded data removed]",
      "text/plain": [
       "<Figure size 1000x500 with 1 Axes>"
      ]
     },
     "metadata": {},
     "output_type": "display_data"
    }
   ],
   "source": [
    "import matplotlib.pyplot as plt\n",
    "\n",
    "plt.figure(figsize=(10, 5))\n",
    "plt.plot(train_losses, label=\"Train Loss\")\n",
    "plt.plot(val_losses, label=\"Validation Loss\")\n",
    "plt.xlabel(\"Epoch\")\n",
    "plt.ylabel(\"Loss\")\n",
    "plt.title(\"Training vs Validation Loss\")\n",
    "plt.legend()\n",
    "plt.grid(True)\n",
    "plt.show()"
   ]
  },
  {
   "cell_type": "code",
   "execution_count": 87,
   "metadata": {},
   "outputs": [
    {
     "name": "stdout",
     "output_type": "stream",
     "text": [
      "Saved test_predictions.csv ✅\n"
     ]
    }
   ],
   "source": [
    "# Load model\n",
    "model.load_state_dict(torch.load(\"best_model.pt\"))\n",
    "model.eval()\n",
    "\n",
    "# Predict\n",
    "predictions = []\n",
    "\n",
    "with torch.no_grad():\n",
    "    for inputs in test_loader:\n",
    "        inputs = inputs.to(device)\n",
    "        outputs = model(inputs)\n",
    "        predictions.extend(outputs.cpu().numpy().flatten())\n",
    "\n",
    "# Save to CSV\n",
    "test_df = pd.read_csv(\"Data/test.csv\")\n",
    "test_df[\"Rings\"] = predictions\n",
    "test_df.to_csv(\"test_predictions.csv\", index=False)\n",
    "print(\"Saved test_predictions.csv ✅\")"
   ]
  },
  {
   "cell_type": "code",
   "execution_count": null,
   "metadata": {},
   "outputs": [],
   "source": []
  }
 ],
 "metadata": {
  "kernelspec": {
   "display_name": "Python 3",
   "language": "python",
   "name": "python3"
  },
  "language_info": {
   "codemirror_mode": {
    "name": "ipython",
    "version": 3
   },
   "file_extension": ".py",
   "mimetype": "text/x-python",
   "name": "python",
   "nbconvert_exporter": "python",
   "pygments_lexer": "ipython3",
   "version": "3.12.7"
  }
 },
 "nbformat": 4,
 "nbformat_minor": 2
}
