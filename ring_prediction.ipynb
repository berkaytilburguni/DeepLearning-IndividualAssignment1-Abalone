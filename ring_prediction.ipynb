{
 "cells": [
  {
   "cell_type": "markdown",
   "metadata": {},
   "source": [
    "# Deep Learning First Individual Assignment | Predicting Abalone Age\n",
    "\n",
    "## Project Evaluation Criteria\n",
    "\n",
    "### Data Loading and Preprocessing (2 points max)\n",
    "- Load the data from the CSV files using the appropriate data import methods in PyTorch.\n",
    "- Apply dataset splits that enable you to assess network overfitting.\n",
    "- Preprocess the categorical and numerical data accordingly (refer to **Lesson 5 – Training Practices and Regularization** and **Lesson 6 – PyTorch in Production**).\n",
    "- Make data loading protocols for mini-batch training.\n",
    "\n",
    "### Approach and Methodology (2 points max)\n",
    "- Implement a neural network architecture suited to the task and justify your choice (refer to **Lesson 6 – PyTorch in Production**).\n",
    "- Apply regularization techniques that help prevent network overfitting.\n",
    "\n",
    "### Results and Evaluation (2 points max)\n",
    "- Build a training protocol to train your neural network on the dataset with a user-specified number of epochs.\n",
    "- Implement methods that effectively regulate the training process (refer to **Lab 5 – Training Practices and Regularization**).\n",
    "- Provide visualizations, if useful, that give an indication of the training procedure (e.g., a loss curve). These visualizations can be included in your report as part of your submission package.\n",
    "- Implement a software method that saves the network’s weight with the best performance.  \n",
    "  - These network weights should be saved as `.pt` / `.pth` file.\n",
    "  - Include them as part of your submission package so that the teacher and the teaching assistant can reproduce your results. \n",
    "\n",
    "### Code Quality and Reproducibility (2 points max)\n",
    "- Your code should be clean, well-structured, and properly commented.\n",
    "- Ensure the code runs in inference mode with your network weights (`.pt` / `.pth` file) to produce the target variable (the number of rings) using the data from `test.csv`.\n",
    "- Ensure that the model generates predictions for the number of rings for every data point in the test set.\n",
    "- Write a `README` file for running your code in inference mode to produce the targets.  \n",
    "  - This will help the teacher and the teaching assistant reproduce your results. \n",
    "\n",
    "### Summary and Justification (2 points max)\n",
    "- Clearly summarize the key novelties of your approach.\n",
    "- Justify the choices made in the data preprocessing, neural network design, training protocol, and inference protocol.\n",
    "- Discuss any challenges encountered and potential improvements."
   ]
  },
  {
   "cell_type": "code",
   "execution_count": 1,
   "metadata": {},
   "outputs": [
    {
     "name": "stdout",
     "output_type": "stream",
     "text": [
      "Device: cpu, CPU\n"
     ]
    }
   ],
   "source": [
    "import pandas as pd\n",
    "import torch\n",
    "import torch.nn as nn\n",
    "import torch.nn.functional as F\n",
    "import torch.optim as optim\n",
    "from torch.utils.data import Dataset, DataLoader, random_split\n",
    "import pandas as pd\n",
    "import numpy as np\n",
    "import matplotlib.pyplot as plt\n",
    "import random\n",
    "\n",
    "SKIP_TRAINING = False\n",
    "\n",
    "device, device_name = (torch.device(\"cuda\"), torch.cuda.get_device_name(0)) if torch.cuda.is_available() else (torch.device(\"cpu\"), \"CPU\")\n",
    "print(f\"Device: {device}, {device_name}\")"
   ]
  },
  {
   "cell_type": "code",
   "execution_count": 2,
   "metadata": {},
   "outputs": [],
   "source": [
    "def set_seed(seed=42):\n",
    "    torch.manual_seed(seed)               \n",
    "    torch.cuda.manual_seed_all(seed)      \n",
    "    np.random.seed(seed)                  \n",
    "    random.seed(seed)                     \n",
    "    torch.backends.cudnn.deterministic = True  \n",
    "    torch.backends.cudnn.benchmark = False     \n",
    "\n",
    "set_seed(42)"
   ]
  },
  {
   "cell_type": "code",
   "execution_count": 3,
   "metadata": {},
   "outputs": [],
   "source": [
    "train_data = pd.read_csv('Data/train.csv')\n",
    "test_data = pd.read_csv('Data/test.csv')"
   ]
  },
  {
   "cell_type": "code",
   "execution_count": 4,
   "metadata": {},
   "outputs": [],
   "source": [
    "class AbaloneDataset(Dataset):\n",
    "    def __init__(self, csv_path, is_test=False, mean=None, std=None):\n",
    "        self.data = pd.read_csv(csv_path)\n",
    "        self.is_test = is_test\n",
    "\n",
    "        # Define columns\n",
    "        self.numeric_cols = [\n",
    "            'Length', 'Diameter', 'Height', 'Whole_weight',\n",
    "            'Shucked_weight', 'Viscera_weight', 'Shell_weight'\n",
    "        ]\n",
    "        self.sex_mapping = {'M': 0, 'F': 1, 'I': 2}\n",
    "\n",
    "        # Compute or load mean and std for standardization\n",
    "        if not is_test:\n",
    "            self.mean = torch.tensor(self.data[self.numeric_cols].mean().values, dtype=torch.float32) \n",
    "            self.std = torch.tensor(self.data[self.numeric_cols].std().values, dtype=torch.float32)\n",
    "        else:\n",
    "            self.mean = mean.clone().detach()\n",
    "            self.std = std.clone().detach()\n",
    "\n",
    "    def __len__(self):\n",
    "        return len(self.data)\n",
    "\n",
    "    def __getitem__(self, idx):\n",
    "        row = self.data.iloc[idx]\n",
    "\n",
    "        # One-hot encode 'Sex'\n",
    "        sex_index = self.sex_mapping[row['Sex']]\n",
    "        sex_one_hot = torch.nn.functional.one_hot(torch.tensor(sex_index), num_classes=3).float()\n",
    "\n",
    "        # Get numeric features and standardize\n",
    "        numeric = torch.tensor([row[col] for col in self.numeric_cols], dtype=torch.float32)\n",
    "        numeric = (numeric - self.mean) / self.std\n",
    "\n",
    "        # Combine features\n",
    "        features = torch.cat([sex_one_hot, numeric])\n",
    "\n",
    "        if self.is_test:\n",
    "            return features\n",
    "        else:\n",
    "            target = torch.tensor(row['Rings'], dtype=torch.float32).view(1)\n",
    "            return features, target"
   ]
  },
  {
   "cell_type": "code",
   "execution_count": 5,
   "metadata": {},
   "outputs": [
    {
     "name": "stdout",
     "output_type": "stream",
     "text": [
      "(tensor([0.0000, 1.0000, 0.0000, 0.9848, 1.1146, 0.8658, 1.1099, 1.0527, 0.9769,\n",
      "        1.3688]), tensor([20.]))\n",
      "(tensor([0.0000, 1.0000, 0.0000, 0.9034, 1.1146, 0.8658, 1.0306, 1.2106, 1.0806,\n",
      "        0.8516]), tensor([9.]))\n",
      "(tensor([ 0.0000,  1.0000,  0.0000,  0.3330,  0.2738, -0.5504, -0.1033,  0.0527,\n",
      "        -0.2940, -0.0863]), tensor([9.]))\n",
      "(tensor([0.0000, 1.0000, 0.0000, 0.7404, 1.0651, 2.1531, 0.6419, 0.0351, 0.7218,\n",
      "        1.0240]), tensor([23.]))\n",
      "(tensor([ 1.0000,  0.0000,  0.0000, -0.6039, -0.6660, -0.4216, -0.8142, -0.8816,\n",
      "        -0.6917, -0.7690]), tensor([12.]))\n",
      "669\n"
     ]
    }
   ],
   "source": [
    "# Load full training dataset\n",
    "full_train_dataset = AbaloneDataset(\"Data/train.csv\")\n",
    "\n",
    "# Save mean and std\n",
    "mean = full_train_dataset.mean\n",
    "std = full_train_dataset.std\n",
    "\n",
    "# Split the full training dataset\n",
    "train_size = int(0.8 * len(full_train_dataset))\n",
    "val_size = len(full_train_dataset) - train_size\n",
    "generator = torch.Generator().manual_seed(42)\n",
    "train_subset, val_subset = random_split(full_train_dataset, [train_size, val_size], generator=generator)\n",
    "\n",
    "# Re-wrap val_subset into a proper AbaloneDataset with the same mean/std\n",
    "val_indices = val_subset.indices\n",
    "val_df = full_train_dataset.data.iloc[val_indices].reset_index(drop=True)\n",
    "val_df.to_csv(\"Data/val_temp.csv\", index=False)\n",
    "val_dataset = AbaloneDataset(\"Data/val_temp.csv\", is_test=False, mean=mean, std=std)\n",
    "\n",
    "# Test dataset (already correct)\n",
    "test_dataset = AbaloneDataset(\"Data/test.csv\", is_test=True, mean=mean, std=std)\n",
    "\n",
    "for i in range(5):\n",
    "    print(val_dataset[i])\n",
    "print(len(val_dataset))\n",
    "\n",
    "# Dataloaders\n",
    "train_loader = DataLoader(train_subset, batch_size=32, shuffle=True)\n",
    "val_loader = DataLoader(val_dataset, batch_size=32, shuffle=False)\n",
    "test_loader = DataLoader(test_dataset, batch_size=32, shuffle=False)"
   ]
  },
  {
   "cell_type": "code",
   "execution_count": 6,
   "metadata": {},
   "outputs": [
    {
     "name": "stdout",
     "output_type": "stream",
     "text": [
      "Column-wise mean: tensor([0.0227, 0.0179, 0.0499, 0.0340, 0.0205, 0.0387, 0.0360])\n",
      "Column-wise std: tensor([1.0266, 1.0220, 1.0076, 1.0551, 1.0295, 1.0698, 1.0572])\n"
     ]
    }
   ],
   "source": [
    "numeric_values = []\n",
    "\n",
    "# Collect numeric features from first 500 samples\n",
    "for i in range(500):\n",
    "    features, _ = val_subset[i]\n",
    "    numeric_part = features[3:]  # First 3 are one-hot encoded sex\n",
    "    numeric_values.append(numeric_part)\n",
    "\n",
    "# Stack into a single tensor\n",
    "numeric_tensor = torch.stack(numeric_values)\n",
    "\n",
    "# Check mean and std for each column\n",
    "print(\"Column-wise mean:\", numeric_tensor.mean(dim=0))\n",
    "print(\"Column-wise std:\", numeric_tensor.std(dim=0))"
   ]
  },
  {
   "cell_type": "code",
   "execution_count": 7,
   "metadata": {},
   "outputs": [],
   "source": [
    "class CleanAbaloneNetwork(nn.Module):\n",
    "    def __init__(self):\n",
    "        super(CleanAbaloneNetwork, self).__init__()\n",
    "        self.model = nn.Sequential(\n",
    "            nn.Linear(10, 64),\n",
    "            nn.ReLU(),\n",
    "            nn.Linear(64, 32),\n",
    "            nn.ReLU(),\n",
    "            nn.Linear(32, 1)  # Output layer for regression\n",
    "        )\n",
    "\n",
    "    def forward(self, x):\n",
    "        return self.model(x)"
   ]
  },
  {
   "cell_type": "code",
   "execution_count": 8,
   "metadata": {},
   "outputs": [],
   "source": [
    "device = torch.device(\"cuda\" if torch.cuda.is_available() else \"cpu\")\n",
    "\n",
    "clean_model = CleanAbaloneNetwork().to(device)\n",
    "criterion = nn.MSELoss()\n",
    "optimizer = optim.Adam(clean_model.parameters(), lr=0.001)"
   ]
  },
  {
   "cell_type": "code",
   "execution_count": 9,
   "metadata": {},
   "outputs": [],
   "source": [
    "def l1_regularization(model, lambda_reg):\n",
    "    l1_penalty = sum(param.abs().sum() for param in model.parameters())\n",
    "    return lambda_reg * l1_penalty"
   ]
  },
  {
   "cell_type": "code",
   "execution_count": 10,
   "metadata": {},
   "outputs": [],
   "source": [
    "def train_model(model, criterion, optimizer):\n",
    "    train_losses = []\n",
    "    val_losses = []\n",
    "    patience = 10           # How many epochs to wait before stopping\n",
    "    counter = 0             # How many epochs since last improvement\n",
    "    best_val_loss = float('inf')\n",
    "\n",
    "    for epoch in range(1, 51):\n",
    "        model.train()\n",
    "        running_loss = 0.0\n",
    "\n",
    "        for inputs, targets in train_loader:\n",
    "            inputs, targets = inputs.to(device), targets.to(device)\n",
    "            optimizer.zero_grad()\n",
    "            outputs = model(inputs)\n",
    "            loss = criterion(outputs, targets)\n",
    "            lambda_reg = 1e-5\n",
    "            loss += l1_regularization(model, lambda_reg)\n",
    "            loss.backward()\n",
    "            optimizer.step()\n",
    "            running_loss += loss.item() * inputs.size(0)\n",
    "\n",
    "        avg_train_loss = running_loss / len(train_loader.dataset)\n",
    "\n",
    "        # Validation\n",
    "        model.eval()\n",
    "        val_loss = 0.0\n",
    "        val_preds = []\n",
    "        val_targets = []\n",
    "\n",
    "        with torch.no_grad():\n",
    "            for inputs, targets in val_loader:\n",
    "                inputs, targets = inputs.to(device), targets.to(device)\n",
    "                outputs = model(inputs)\n",
    "                loss = criterion(outputs, targets)\n",
    "                val_loss += loss.item() * inputs.size(0)\n",
    "\n",
    "                val_preds.append(outputs.cpu())\n",
    "                val_targets.append(targets.cpu())\n",
    "\n",
    "        avg_val_loss = val_loss / len(val_loader.dataset)\n",
    "        val_preds = torch.cat(val_preds)\n",
    "        val_targets = torch.cat(val_targets)\n",
    "\n",
    "        # Calculate additional metrics\n",
    "        mae = F.l1_loss(val_preds, val_targets).item()\n",
    "        rmse = torch.sqrt(F.mse_loss(val_preds, val_targets)).item()\n",
    "\n",
    "        # Save for visualization\n",
    "        train_losses.append(avg_train_loss)\n",
    "        val_losses.append(avg_val_loss)\n",
    "\n",
    "        # Logging\n",
    "        print(f\"Epoch {epoch:02d} | Train Loss: {avg_train_loss:.4f} | Val Loss: {avg_val_loss:.4f} | MAE: {mae:.4f} | RMSE: {rmse:.4f}\")\n",
    "\n",
    "        # Save best model \n",
    "        if avg_val_loss < best_val_loss:\n",
    "            best_val_loss = avg_val_loss\n",
    "            torch.save(model.state_dict(), \"best_model.pt\")\n",
    "            counter = 0  # Reset the early stopping counter\n",
    "        else:\n",
    "            counter += 1\n",
    "            print(f\"No improvement in validation loss for {counter} epoch(s).\")\n",
    "\n",
    "            if counter >= patience:\n",
    "                print(\"Early stopping triggered! ✅\")\n",
    "                break\n",
    "        \n",
    "    return train_losses, val_losses"
   ]
  },
  {
   "cell_type": "code",
   "execution_count": 11,
   "metadata": {},
   "outputs": [],
   "source": [
    "def create_training_plot(train_losses, val_losses, model_name):\n",
    "    plt.figure(figsize=(10, 5))\n",
    "    plt.plot(train_losses, label=\"Train Loss\")\n",
    "    plt.plot(val_losses, label=\"Validation Loss\")\n",
    "    plt.xlabel(\"Epoch\")\n",
    "    plt.ylabel(\"Loss\")\n",
    "    plt.title(f\"Training vs Validation Loss {model_name}\")\n",
    "    plt.legend()\n",
    "    plt.grid(True)\n",
    "    plt.show()"
   ]
  },
  {
   "cell_type": "code",
   "execution_count": 12,
   "metadata": {},
   "outputs": [
    {
     "name": "stdout",
     "output_type": "stream",
     "text": [
      "Epoch 01 | Train Loss: 76.3130 | Val Loss: 29.9270 | MAE: 4.4987 | RMSE: 5.4706\n",
      "Epoch 02 | Train Loss: 17.9432 | Val Loss: 9.8198 | MAE: 2.2518 | RMSE: 3.1337\n",
      "Epoch 03 | Train Loss: 7.4146 | Val Loss: 5.9648 | MAE: 1.7033 | RMSE: 2.4423\n",
      "Epoch 04 | Train Loss: 5.7150 | Val Loss: 5.4400 | MAE: 1.6315 | RMSE: 2.3324\n",
      "Epoch 05 | Train Loss: 5.3441 | Val Loss: 5.1633 | MAE: 1.6090 | RMSE: 2.2723\n",
      "Epoch 06 | Train Loss: 5.1511 | Val Loss: 5.0276 | MAE: 1.5844 | RMSE: 2.2422\n",
      "Epoch 07 | Train Loss: 5.0306 | Val Loss: 5.0266 | MAE: 1.5577 | RMSE: 2.2420\n",
      "Epoch 08 | Train Loss: 4.9145 | Val Loss: 4.8813 | MAE: 1.5412 | RMSE: 2.2094\n",
      "Epoch 09 | Train Loss: 4.8496 | Val Loss: 4.7988 | MAE: 1.5289 | RMSE: 2.1906\n",
      "Epoch 10 | Train Loss: 4.7900 | Val Loss: 4.7738 | MAE: 1.5160 | RMSE: 2.1849\n",
      "Epoch 11 | Train Loss: 4.7470 | Val Loss: 4.8228 | MAE: 1.4988 | RMSE: 2.1961\n",
      "No improvement in validation loss for 1 epoch(s).\n",
      "Epoch 12 | Train Loss: 4.7093 | Val Loss: 4.6516 | MAE: 1.5214 | RMSE: 2.1568\n",
      "Epoch 13 | Train Loss: 4.6269 | Val Loss: 4.6597 | MAE: 1.4841 | RMSE: 2.1586\n",
      "No improvement in validation loss for 1 epoch(s).\n",
      "Epoch 14 | Train Loss: 4.6326 | Val Loss: 4.6027 | MAE: 1.5393 | RMSE: 2.1454\n",
      "Epoch 15 | Train Loss: 4.6627 | Val Loss: 4.6541 | MAE: 1.5453 | RMSE: 2.1573\n",
      "No improvement in validation loss for 1 epoch(s).\n",
      "Epoch 16 | Train Loss: 4.5805 | Val Loss: 4.6749 | MAE: 1.4632 | RMSE: 2.1621\n",
      "No improvement in validation loss for 2 epoch(s).\n",
      "Epoch 17 | Train Loss: 4.6313 | Val Loss: 4.6851 | MAE: 1.5955 | RMSE: 2.1645\n",
      "No improvement in validation loss for 3 epoch(s).\n",
      "Epoch 18 | Train Loss: 4.5501 | Val Loss: 4.5004 | MAE: 1.4859 | RMSE: 2.1214\n",
      "Epoch 19 | Train Loss: 4.5311 | Val Loss: 4.4859 | MAE: 1.4787 | RMSE: 2.1180\n",
      "Epoch 20 | Train Loss: 4.5017 | Val Loss: 4.4772 | MAE: 1.5186 | RMSE: 2.1160\n",
      "Epoch 21 | Train Loss: 4.5366 | Val Loss: 4.4972 | MAE: 1.4607 | RMSE: 2.1207\n",
      "No improvement in validation loss for 1 epoch(s).\n",
      "Epoch 22 | Train Loss: 4.4784 | Val Loss: 4.4549 | MAE: 1.4641 | RMSE: 2.1107\n",
      "Epoch 23 | Train Loss: 4.4747 | Val Loss: 4.4187 | MAE: 1.4657 | RMSE: 2.1021\n",
      "Epoch 24 | Train Loss: 4.4636 | Val Loss: 4.4523 | MAE: 1.4975 | RMSE: 2.1101\n",
      "No improvement in validation loss for 1 epoch(s).\n",
      "Epoch 25 | Train Loss: 4.4740 | Val Loss: 4.4063 | MAE: 1.5022 | RMSE: 2.0991\n",
      "Epoch 26 | Train Loss: 4.4112 | Val Loss: 4.4977 | MAE: 1.4525 | RMSE: 2.1208\n",
      "No improvement in validation loss for 1 epoch(s).\n",
      "Epoch 27 | Train Loss: 4.4387 | Val Loss: 4.4799 | MAE: 1.5252 | RMSE: 2.1166\n",
      "No improvement in validation loss for 2 epoch(s).\n",
      "Epoch 28 | Train Loss: 4.3793 | Val Loss: 4.6575 | MAE: 1.4319 | RMSE: 2.1581\n",
      "No improvement in validation loss for 3 epoch(s).\n",
      "Epoch 29 | Train Loss: 4.3901 | Val Loss: 4.5812 | MAE: 1.4218 | RMSE: 2.1404\n",
      "No improvement in validation loss for 4 epoch(s).\n",
      "Epoch 30 | Train Loss: 4.3600 | Val Loss: 4.4219 | MAE: 1.4330 | RMSE: 2.1028\n",
      "No improvement in validation loss for 5 epoch(s).\n",
      "Epoch 31 | Train Loss: 4.3706 | Val Loss: 4.4086 | MAE: 1.5032 | RMSE: 2.0997\n",
      "No improvement in validation loss for 6 epoch(s).\n",
      "Epoch 32 | Train Loss: 4.3471 | Val Loss: 4.4363 | MAE: 1.4662 | RMSE: 2.1062\n",
      "No improvement in validation loss for 7 epoch(s).\n",
      "Epoch 33 | Train Loss: 4.3707 | Val Loss: 4.4660 | MAE: 1.4178 | RMSE: 2.1133\n",
      "No improvement in validation loss for 8 epoch(s).\n",
      "Epoch 34 | Train Loss: 4.3308 | Val Loss: 4.3148 | MAE: 1.4935 | RMSE: 2.0772\n",
      "Epoch 35 | Train Loss: 4.3159 | Val Loss: 4.2807 | MAE: 1.4516 | RMSE: 2.0690\n",
      "Epoch 36 | Train Loss: 4.3339 | Val Loss: 4.2898 | MAE: 1.4304 | RMSE: 2.0712\n",
      "No improvement in validation loss for 1 epoch(s).\n",
      "Epoch 37 | Train Loss: 4.3001 | Val Loss: 4.3068 | MAE: 1.4330 | RMSE: 2.0753\n",
      "No improvement in validation loss for 2 epoch(s).\n",
      "Epoch 38 | Train Loss: 4.3019 | Val Loss: 4.2828 | MAE: 1.4420 | RMSE: 2.0695\n",
      "No improvement in validation loss for 3 epoch(s).\n",
      "Epoch 39 | Train Loss: 4.2665 | Val Loss: 4.2842 | MAE: 1.4270 | RMSE: 2.0698\n",
      "No improvement in validation loss for 4 epoch(s).\n",
      "Epoch 40 | Train Loss: 4.2605 | Val Loss: 4.2923 | MAE: 1.4183 | RMSE: 2.0718\n",
      "No improvement in validation loss for 5 epoch(s).\n",
      "Epoch 41 | Train Loss: 4.2640 | Val Loss: 4.2649 | MAE: 1.4669 | RMSE: 2.0652\n",
      "Epoch 42 | Train Loss: 4.3102 | Val Loss: 4.3490 | MAE: 1.4085 | RMSE: 2.0854\n",
      "No improvement in validation loss for 1 epoch(s).\n",
      "Epoch 43 | Train Loss: 4.2679 | Val Loss: 4.2440 | MAE: 1.4616 | RMSE: 2.0601\n",
      "Epoch 44 | Train Loss: 4.2337 | Val Loss: 4.2734 | MAE: 1.4556 | RMSE: 2.0672\n",
      "No improvement in validation loss for 1 epoch(s).\n",
      "Epoch 45 | Train Loss: 4.2735 | Val Loss: 4.3697 | MAE: 1.4058 | RMSE: 2.0904\n",
      "No improvement in validation loss for 2 epoch(s).\n",
      "Epoch 46 | Train Loss: 4.2206 | Val Loss: 4.3219 | MAE: 1.4442 | RMSE: 2.0789\n",
      "No improvement in validation loss for 3 epoch(s).\n",
      "Epoch 47 | Train Loss: 4.2252 | Val Loss: 4.2414 | MAE: 1.4652 | RMSE: 2.0595\n",
      "Epoch 48 | Train Loss: 4.2267 | Val Loss: 4.3210 | MAE: 1.4052 | RMSE: 2.0787\n",
      "No improvement in validation loss for 1 epoch(s).\n",
      "Epoch 49 | Train Loss: 4.2652 | Val Loss: 4.2366 | MAE: 1.4272 | RMSE: 2.0583\n",
      "Epoch 50 | Train Loss: 4.2069 | Val Loss: 4.2955 | MAE: 1.4116 | RMSE: 2.0726\n",
      "No improvement in validation loss for 1 epoch(s).\n"
     ]
    },
    {
     "data": {
      "image/png": "[encoded data removed]",
      "text/plain": [
       "<Figure size 1000x500 with 1 Axes>"
      ]
     },
     "metadata": {},
     "output_type": "display_data"
    }
   ],
   "source": [
    "if SKIP_TRAINING == False:\n",
    "    train_losses, val_losses = train_model(clean_model, criterion, optimizer)\n",
    "    create_training_plot(train_losses, val_losses, \"Clean Model\")"
   ]
  },
  {
   "cell_type": "code",
   "execution_count": 13,
   "metadata": {},
   "outputs": [],
   "source": [
    "class ModifiedAbaloneNetwork(nn.Module):\n",
    "    def __init__(self):\n",
    "        super(ModifiedAbaloneNetwork, self).__init__()\n",
    "        self.model = nn.Sequential(\n",
    "            nn.Linear(10, 64),\n",
    "            nn.BatchNorm1d(64),\n",
    "            nn.LeakyReLU(),\n",
    "            nn.Dropout(0.3),\n",
    "            nn.Linear(64, 32),\n",
    "            nn.BatchNorm1d(32),\n",
    "            nn.LeakyReLU(),\n",
    "            nn.Dropout(0.3),\n",
    "            nn.Linear(32, 1)  # Output layer for regression\n",
    "        )\n",
    "\n",
    "    def forward(self, x):\n",
    "        return self.model(x)"
   ]
  },
  {
   "cell_type": "code",
   "execution_count": 14,
   "metadata": {},
   "outputs": [],
   "source": [
    "modified_model = ModifiedAbaloneNetwork().to(device)\n",
    "criterion = nn.MSELoss()\n",
    "optimizer = optim.Adam(modified_model.parameters(), lr=0.001)"
   ]
  },
  {
   "cell_type": "code",
   "execution_count": 15,
   "metadata": {},
   "outputs": [
    {
     "name": "stdout",
     "output_type": "stream",
     "text": [
      "Epoch 01 | Train Loss: 93.2313 | Val Loss: 82.3880 | MAE: 8.7041 | RMSE: 9.0768\n",
      "Epoch 02 | Train Loss: 66.7769 | Val Loss: 58.8857 | MAE: 7.2625 | RMSE: 7.6737\n",
      "Epoch 03 | Train Loss: 41.1779 | Val Loss: 32.0949 | MAE: 5.1757 | RMSE: 5.6652\n",
      "Epoch 04 | Train Loss: 21.1507 | Val Loss: 13.5591 | MAE: 2.9904 | RMSE: 3.6823\n",
      "Epoch 05 | Train Loss: 11.6355 | Val Loss: 7.7344 | MAE: 1.9985 | RMSE: 2.7811\n",
      "Epoch 06 | Train Loss: 9.2446 | Val Loss: 5.6548 | MAE: 1.6078 | RMSE: 2.3780\n",
      "Epoch 07 | Train Loss: 7.7602 | Val Loss: 5.2687 | MAE: 1.5682 | RMSE: 2.2954\n",
      "Epoch 08 | Train Loss: 7.7168 | Val Loss: 5.1511 | MAE: 1.5144 | RMSE: 2.2696\n",
      "Epoch 09 | Train Loss: 7.6368 | Val Loss: 5.2535 | MAE: 1.5171 | RMSE: 2.2921\n",
      "No improvement in validation loss for 1 epoch(s).\n",
      "Epoch 10 | Train Loss: 7.7598 | Val Loss: 5.2378 | MAE: 1.4997 | RMSE: 2.2886\n",
      "No improvement in validation loss for 2 epoch(s).\n",
      "Epoch 11 | Train Loss: 7.5728 | Val Loss: 4.9424 | MAE: 1.4977 | RMSE: 2.2232\n",
      "Epoch 12 | Train Loss: 7.7831 | Val Loss: 4.9961 | MAE: 1.4710 | RMSE: 2.2352\n",
      "No improvement in validation loss for 1 epoch(s).\n",
      "Epoch 13 | Train Loss: 7.0960 | Val Loss: 5.1829 | MAE: 1.4796 | RMSE: 2.2766\n",
      "No improvement in validation loss for 2 epoch(s).\n",
      "Epoch 14 | Train Loss: 7.3109 | Val Loss: 5.1153 | MAE: 1.5034 | RMSE: 2.2617\n",
      "No improvement in validation loss for 3 epoch(s).\n",
      "Epoch 15 | Train Loss: 7.6127 | Val Loss: 4.5390 | MAE: 1.4448 | RMSE: 2.1305\n",
      "Epoch 16 | Train Loss: 7.4540 | Val Loss: 4.9892 | MAE: 1.4919 | RMSE: 2.2337\n",
      "No improvement in validation loss for 1 epoch(s).\n",
      "Epoch 17 | Train Loss: 7.7497 | Val Loss: 4.6423 | MAE: 1.4416 | RMSE: 2.1546\n",
      "No improvement in validation loss for 2 epoch(s).\n",
      "Epoch 18 | Train Loss: 7.5160 | Val Loss: 4.7714 | MAE: 1.4458 | RMSE: 2.1844\n",
      "No improvement in validation loss for 3 epoch(s).\n",
      "Epoch 19 | Train Loss: 7.4891 | Val Loss: 4.8282 | MAE: 1.4488 | RMSE: 2.1973\n",
      "No improvement in validation loss for 4 epoch(s).\n",
      "Epoch 20 | Train Loss: 7.3079 | Val Loss: 4.7361 | MAE: 1.4313 | RMSE: 2.1763\n",
      "No improvement in validation loss for 5 epoch(s).\n",
      "Epoch 21 | Train Loss: 7.1863 | Val Loss: 4.8784 | MAE: 1.4566 | RMSE: 2.2087\n",
      "No improvement in validation loss for 6 epoch(s).\n",
      "Epoch 22 | Train Loss: 7.0777 | Val Loss: 4.7301 | MAE: 1.4351 | RMSE: 2.1749\n",
      "No improvement in validation loss for 7 epoch(s).\n",
      "Epoch 23 | Train Loss: 7.2907 | Val Loss: 4.7975 | MAE: 1.4419 | RMSE: 2.1903\n",
      "No improvement in validation loss for 8 epoch(s).\n",
      "Epoch 24 | Train Loss: 7.0193 | Val Loss: 4.7740 | MAE: 1.4439 | RMSE: 2.1850\n",
      "No improvement in validation loss for 9 epoch(s).\n",
      "Epoch 25 | Train Loss: 7.2582 | Val Loss: 4.6880 | MAE: 1.4347 | RMSE: 2.1652\n",
      "No improvement in validation loss for 10 epoch(s).\n",
      "Early stopping triggered! ✅\n"
     ]
    },
    {
     "data": {
      "image/png": "[encoded data removed]",
      "text/plain": [
       "<Figure size 1000x500 with 1 Axes>"
      ]
     },
     "metadata": {},
     "output_type": "display_data"
    }
   ],
   "source": [
    "if SKIP_TRAINING == False:\n",
    "    train_losses, val_losses = train_model(modified_model, criterion, optimizer)\n",
    "    create_training_plot(train_losses, val_losses, \"Modified Model\")"
   ]
  },
  {
   "cell_type": "code",
   "execution_count": 16,
   "metadata": {},
   "outputs": [
    {
     "name": "stdout",
     "output_type": "stream",
     "text": [
      "Saved test_predictions.csv ✅\n"
     ]
    }
   ],
   "source": [
    "# Load model\n",
    "modified_model.load_state_dict(torch.load(\"best_model.pt\"))\n",
    "modified_model.eval()\n",
    "\n",
    "# Predict\n",
    "predictions = []\n",
    "\n",
    "with torch.no_grad():\n",
    "    for inputs in test_loader:\n",
    "        inputs = inputs.to(device)\n",
    "        outputs = modified_model(inputs)\n",
    "        predictions.extend(outputs.cpu().numpy().flatten())\n",
    "\n",
    "# Save to CSV\n",
    "test_df = pd.read_csv(\"Data/test.csv\")\n",
    "test_df[\"Rings\"] = predictions\n",
    "test_df.to_csv(\"test_predictions.csv\", index=False)\n",
    "print(\"Saved test_predictions.csv ✅\")"
   ]
  },
  {
   "cell_type": "code",
   "execution_count": null,
   "metadata": {},
   "outputs": [],
   "source": []
  }
 ],
 "metadata": {
  "kernelspec": {
   "display_name": "Python 3",
   "language": "python",
   "name": "python3"
  },
  "language_info": {
   "codemirror_mode": {
    "name": "ipython",
    "version": 3
   },
   "file_extension": ".py",
   "mimetype": "text/x-python",
   "name": "python",
   "nbconvert_exporter": "python",
   "pygments_lexer": "ipython3",
   "version": "3.12.7"
  }
 },
 "nbformat": 4,
 "nbformat_minor": 2
}
