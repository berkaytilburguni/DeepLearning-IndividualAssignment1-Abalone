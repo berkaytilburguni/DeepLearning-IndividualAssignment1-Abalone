{
 "cells": [
  {
   "cell_type": "markdown",
   "metadata": {},
   "source": [
    "# Project Evaluation Criteria\n",
    "\n",
    "## Data Loading and Preprocessing (2 points max)\n",
    "- Load the data from the CSV files using the appropriate data import methods in PyTorch.\n",
    "- Apply dataset splits that enable you to assess network overfitting.\n",
    "- Preprocess the categorical and numerical data accordingly (refer to **Lesson 5 – Training Practices and Regularization** and **Lesson 6 – PyTorch in Production**).\n",
    "- Make data loading protocols for mini-batch training.\n",
    "\n",
    "## Approach and Methodology (2 points max)\n",
    "- Implement a neural network architecture suited to the task and justify your choice (refer to **Lesson 6 – PyTorch in Production**).\n",
    "- Apply regularization techniques that help prevent network overfitting.\n",
    "\n",
    "## Results and Evaluation (2 points max)\n",
    "- Build a training protocol to train your neural network on the dataset with a user-specified number of epochs.\n",
    "- Implement methods that effectively regulate the training process (refer to **Lab 5 – Training Practices and Regularization**).\n",
    "- Provide visualizations, if useful, that give an indication of the training procedure (e.g., a loss curve). These visualizations can be included in your report as part of your submission package.\n",
    "- Implement a software method that saves the network’s weight with the best performance.  \n",
    "  - These network weights should be saved as `.pt` / `.pth` file.\n",
    "  - Include them as part of your submission package so that the teacher and the teaching assistant can reproduce your results. \n",
    "\n",
    "## Code Quality and Reproducibility (2 points max)\n",
    "- Your code should be clean, well-structured, and properly commented.\n",
    "- Ensure the code runs in inference mode with your network weights (`.pt` / `.pth` file) to produce the target variable (the number of rings) using the data from `test.csv`.\n",
    "- Ensure that the model generates predictions for the number of rings for every data point in the test set.\n",
    "- Write a `README` file for running your code in inference mode to produce the targets.  \n",
    "  - This will help the teacher and the teaching assistant reproduce your results. \n",
    "\n",
    "## Summary and Justification (2 points max)\n",
    "- Clearly summarize the key novelties of your approach.\n",
    "- Justify the choices made in the data preprocessing, neural network design, training protocol, and inference protocol.\n",
    "- Discuss any challenges encountered and potential improvements."
   ]
  },
  {
   "cell_type": "code",
   "execution_count": null,
   "metadata": {
    "vscode": {
     "languageId": "plaintext"
    }
   },
   "outputs": [],
   "source": []
  }
 ],
 "metadata": {
  "language_info": {
   "name": "python"
  }
 },
 "nbformat": 4,
 "nbformat_minor": 2
}
